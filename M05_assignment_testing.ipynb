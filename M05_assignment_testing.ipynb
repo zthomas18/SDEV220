{
 "cells": [
  {
   "cell_type": "markdown",
   "id": "353137e9-f07e-4fd4-9dc8-ef1496b945ba",
   "metadata": {},
   "source": [
    "Zachary Thomas\n",
    "M05 Programming Assignment - Testing\n",
    "4/20/2024"
   ]
  },
  {
   "cell_type": "markdown",
   "id": "50704aaf-f0c6-4a87-942b-446c8197ff76",
   "metadata": {},
   "source": [
    "test_sum.py"
   ]
  },
  {
   "cell_type": "code",
   "execution_count": null,
   "id": "cf53b261-666b-46d6-ba83-55d15fcdc832",
   "metadata": {},
   "outputs": [],
   "source": [
    "def test_sum():\n",
    "    assert sum([1, 2, 3]) == 6, \"Should be 6\"\n",
    "\n",
    "if __name__ == \"__main__\":\n",
    "    test_sum()\n",
    "    print(\"Everything passed\")"
   ]
  },
  {
   "cell_type": "markdown",
   "id": "56381068-d6a6-4dc5-ab07-896372dc174e",
   "metadata": {},
   "source": [
    "test_sum_2.py"
   ]
  },
  {
   "cell_type": "code",
   "execution_count": null,
   "id": "228836e8-6075-4dda-a8d8-15bcc3496946",
   "metadata": {},
   "outputs": [],
   "source": [
    "def test_sum():\n",
    "    assert sum([1, 2, 3]) == 6, \"Should be 6\"\n",
    "\n",
    "def test_sum_tuple():\n",
    "    assert sum((1, 2, 2)) == 6, \"Should be 6\"\n",
    "\n",
    "if __name__ == \"__main__\":\n",
    "    test_sum()\n",
    "    test_sum_tuple()\n",
    "    print(\"Everything passed\")"
   ]
  },
  {
   "cell_type": "markdown",
   "id": "cabbac6c-e2d2-469e-84fe-7efe66531a83",
   "metadata": {},
   "source": [
    "test_sum_unittest.py"
   ]
  },
  {
   "cell_type": "code",
   "execution_count": null,
   "id": "a55fe5d6-cef5-4e33-99f1-57bb7d68f126",
   "metadata": {},
   "outputs": [],
   "source": [
    "import unittest\n",
    "\n",
    "\n",
    "class TestSum(unittest.TestCase):\n",
    "\n",
    "    def test_sum(self):\n",
    "        self.assertEqual(sum([1, 2, 3]), 6, \"Should be 6\")\n",
    "\n",
    "    def test_sum_tuple(self):\n",
    "        self.assertEqual(sum((1, 2, 2)), 6, \"Should be 6\")\n",
    "\n",
    "if __name__ == '__main__':\n",
    "    unittest.main()"
   ]
  },
  {
   "cell_type": "markdown",
   "id": "a3fa1f39-d7b8-4eaa-8e0c-b5e638ca217a",
   "metadata": {},
   "source": [
    "project > __init__.py"
   ]
  },
  {
   "cell_type": "code",
   "execution_count": null,
   "id": "3869d16c-078b-4e5a-b6e8-ecc641ecae42",
   "metadata": {},
   "outputs": [],
   "source": [
    "def sum(arg):\n",
    "    total = 0\n",
    "    for val in arg:\n",
    "        total += val\n",
    "    return total\n"
   ]
  },
  {
   "cell_type": "markdown",
   "id": "7499435b-fd70-4047-b6a2-621427270d5b",
   "metadata": {},
   "source": [
    "project > test.py"
   ]
  },
  {
   "cell_type": "code",
   "execution_count": null,
   "id": "cc7b7db7-ae6b-4cb9-9b75-2907614e57c9",
   "metadata": {},
   "outputs": [],
   "source": [
    "import unittest\n",
    "\n",
    "from my_sum import sum\n",
    "\n",
    "\n",
    "class TestSum(unittest.TestCase):\n",
    "    def test_list_int(self):\n",
    "        \"\"\"\n",
    "        Test that it can sum a list of integers\n",
    "        \"\"\"\n",
    "        data = [1, 2, 3]\n",
    "        result = sum(data)\n",
    "        self.assertEqual(result, 6)\n",
    "\n",
    "if __name__ == '__main__':\n",
    "    unittest.main()"
   ]
  }
 ],
 "metadata": {
  "kernelspec": {
   "display_name": "Python 3 (ipykernel)",
   "language": "python",
   "name": "python3"
  },
  "language_info": {
   "codemirror_mode": {
    "name": "ipython",
    "version": 3
   },
   "file_extension": ".py",
   "mimetype": "text/x-python",
   "name": "python",
   "nbconvert_exporter": "python",
   "pygments_lexer": "ipython3",
   "version": "3.11.7"
  }
 },
 "nbformat": 4,
 "nbformat_minor": 5
}
