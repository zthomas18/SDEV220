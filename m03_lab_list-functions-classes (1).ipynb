{
 "cells": [
  {
   "cell_type": "markdown",
   "id": "f5960892-ab6a-46cd-ae00-7dd89ef21b0a",
   "metadata": {},
   "source": [
    "# Zach Thomas\n",
    "# M03 Lab - Case Study: Lists, Functions, and Classes\n",
    "# 4/4/2024"
   ]
  },
  {
   "cell_type": "code",
   "execution_count": null,
   "id": "08d514da-c3cc-492e-a4c2-21595a2d1b6d",
   "metadata": {},
   "outputs": [],
   "source": [
    "# Zach Thomas\n",
    "# M03 Lab - Case Study: Lists, Functions, and Classes\n",
    "# 4/4/2024\n",
    "\n",
    "class Vehicle():\n",
    "    def __init__(self, car):\n",
    "        self.car = car\n",
    "\n",
    "class Automobile(Vehicle):\n",
    "    def __init__(self, year, make, model, doors, roof, car):\n",
    "        super().__init__(car)\n",
    "        self.car = car\n",
    "        self.year = year\n",
    "        self.make = make\n",
    "        self.model = model\n",
    "        self.doors = doors\n",
    "        self.roof = roof\n",
    "\n",
    "car = input('Enter the vehicle type(car/truck/plane/boat/broomstick): ')\n",
    "year = input('Enter the vehicle year: ')\n",
    "make = input('Enter the vehicle make: ')\n",
    "model = input('Enter the vehicle model: ')\n",
    "doors = input('Enter the amount of wheels(2 or 4): ')\n",
    "roof = input('Enter the type of roof (solid or sun roof): ')\n",
    "\n",
    "print('Vehicle type:', car)\n",
    "print('Year:', year)\n",
    "print('Make:', make)\n",
    "print('Model:', model)\n",
    "print('Number of doors:', doors)\n",
    "print('Type of roof:', roof)"
   ]
  }
 ],
 "metadata": {
  "kernelspec": {
   "display_name": "Python 3 (ipykernel)",
   "language": "python",
   "name": "python3"
  },
  "language_info": {
   "codemirror_mode": {
    "name": "ipython",
    "version": 3
   },
   "file_extension": ".py",
   "mimetype": "text/x-python",
   "name": "python",
   "nbconvert_exporter": "python",
   "pygments_lexer": "ipython3",
   "version": "3.11.7"
  }
 },
 "nbformat": 4,
 "nbformat_minor": 5
}
