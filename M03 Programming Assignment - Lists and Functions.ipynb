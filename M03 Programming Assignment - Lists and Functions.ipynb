{
 "cells": [
  {
   "cell_type": "markdown",
   "id": "ce9f82e8-cfa8-4c86-a920-7d91818f75ff",
   "metadata": {},
   "source": [
    "7.4 Make a list called things with these three strings as elements: \"mozzarella\", \"cinderella\", \"salmonella\"."
   ]
  },
  {
   "cell_type": "code",
   "execution_count": 1,
   "id": "e2c6e6e3-5e9f-412a-8fa4-91fbf2a6b97d",
   "metadata": {},
   "outputs": [],
   "source": [
    "things = [\"mozzarella\", \"cinderella\", \"salmonella\"]"
   ]
  },
  {
   "cell_type": "markdown",
   "id": "6a5394e9-3c70-44db-98a1-9d014291bb60",
   "metadata": {},
   "source": [
    "7.5 Capitalize the element in things that refers to a person and then print the list. Did it change the element in the list?"
   ]
  },
  {
   "cell_type": "code",
   "execution_count": 2,
   "id": "57fe074f-9080-4518-a7da-bb235bb74bb0",
   "metadata": {},
   "outputs": [
    {
     "name": "stdout",
     "output_type": "stream",
     "text": [
      "['mozzarella', 'Cinderella', 'salmonella']\n"
     ]
    }
   ],
   "source": [
    "things[1] = things[1].capitalize()\n",
    "print(things)"
   ]
  },
  {
   "cell_type": "markdown",
   "id": "9f49e885-ec7f-4188-91d2-c72c3048e8d6",
   "metadata": {},
   "source": [
    "Yes, it did change the element in the list by capitalizing Cinderella."
   ]
  },
  {
   "cell_type": "markdown",
   "id": "a5e4ab6f-278f-4044-9001-5cc795875653",
   "metadata": {},
   "source": [
    "7.6 Make the cheesy element of things all uppercase and then print the list."
   ]
  },
  {
   "cell_type": "code",
   "execution_count": 3,
   "id": "555e58d5-63df-4b32-afd0-b79cf9b18fef",
   "metadata": {},
   "outputs": [
    {
     "name": "stdout",
     "output_type": "stream",
     "text": [
      "['MOZZARELLA', 'Cinderella', 'salmonella']\n"
     ]
    }
   ],
   "source": [
    "things[0] = things[0].upper()\n",
    "print(things)"
   ]
  },
  {
   "cell_type": "markdown",
   "id": "ebf865c7-127f-4c8e-b350-259c60ce7720",
   "metadata": {},
   "source": [
    "7.7 Delete the disease element from things, collect your Nobel Prize, and print the list."
   ]
  },
  {
   "cell_type": "code",
   "execution_count": 4,
   "id": "a1f691e8-1fe0-4aa3-9888-289acf03e1fd",
   "metadata": {},
   "outputs": [
    {
     "name": "stdout",
     "output_type": "stream",
     "text": [
      "['MOZZARELLA', 'Cinderella']\n"
     ]
    }
   ],
   "source": [
    "del things[2]\n",
    "# *Collects Nobel Prize\n",
    "print(things)"
   ]
  },
  {
   "cell_type": "markdown",
   "id": "431eda02-1e3a-427f-a715-09e297bcdcf1",
   "metadata": {},
   "source": [
    "9.1 Define a function called good() that returns the following list: ['Harry', 'Ron', 'Hermione']."
   ]
  },
  {
   "cell_type": "code",
   "execution_count": 5,
   "id": "c18d8fe2-a9c7-4364-95bc-50a55df080c2",
   "metadata": {},
   "outputs": [
    {
     "name": "stdout",
     "output_type": "stream",
     "text": [
      "['Harry', 'Ron', 'Hermione']\n"
     ]
    }
   ],
   "source": [
    "def good():\n",
    "    return ['Harry', 'Ron', 'Hermione']\n",
    "\n",
    "print(good())"
   ]
  },
  {
   "cell_type": "markdown",
   "id": "1d0a1f21-ca02-4f0e-920e-0d425f0526fc",
   "metadata": {},
   "source": [
    "9.2 Define a generator function called get_odds() that returns the odd numbers from range(10). Use a for loop to find and print the third value returned."
   ]
  },
  {
   "cell_type": "code",
   "execution_count": 5,
   "id": "993b491f-2a0f-4fd5-aefb-d14b332a3419",
   "metadata": {},
   "outputs": [
    {
     "name": "stdout",
     "output_type": "stream",
     "text": [
      "Third odd number:  5\n",
      "Odd numbers between 1-10:  [1, 3, 5, 7, 9]\n"
     ]
    }
   ],
   "source": [
    "def get_odds():\n",
    "    i_list = []\n",
    "    index = 0\n",
    "    for i in range(1, 10, 2):\n",
    "        index += 1\n",
    "        i_list.append(i)\n",
    "        if index == 3:\n",
    "            print('Third odd number: ', i)\n",
    "\n",
    "    return i_list\n",
    "\n",
    "print('All odd numbers between 1-10: ', get_odds())"
   ]
  },
  {
   "cell_type": "code",
   "execution_count": null,
   "id": "d3cdbeaf-201b-450d-adf3-e8ed3f1912fb",
   "metadata": {},
   "outputs": [],
   "source": []
  }
 ],
 "metadata": {
  "kernelspec": {
   "display_name": "Python 3 (ipykernel)",
   "language": "python",
   "name": "python3"
  },
  "language_info": {
   "codemirror_mode": {
    "name": "ipython",
    "version": 3
   },
   "file_extension": ".py",
   "mimetype": "text/x-python",
   "name": "python",
   "nbconvert_exporter": "python",
   "pygments_lexer": "ipython3",
   "version": "3.11.7"
  }
 },
 "nbformat": 4,
 "nbformat_minor": 5
}
