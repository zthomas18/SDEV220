{
 "cells": [
  {
   "cell_type": "markdown",
   "id": "f38c758c-cdf8-401b-a6c3-221d83b0c098",
   "metadata": {},
   "source": [
    "Zach Thomas"
   ]
  },
  {
   "cell_type": "markdown",
   "id": "55c7891f-8b8a-408b-90e6-dd384efff5e8",
   "metadata": {},
   "source": [
    "M06 Concurrency in Python"
   ]
  },
  {
   "cell_type": "markdown",
   "id": "d0d6c737-1bf2-4c78-9eb8-0b103d46cda4",
   "metadata": {},
   "source": [
    "4/24/2024"
   ]
  },
  {
   "cell_type": "markdown",
   "id": "a28f5e56-c8b6-4391-b853-62decb61ca26",
   "metadata": {},
   "source": [
    "13.1 Write the current date as a string to the text file today.txt."
   ]
  },
  {
   "cell_type": "code",
   "execution_count": 1,
   "id": "fb64a7c8-af53-4ba4-8d26-e62fdbfc8938",
   "metadata": {},
   "outputs": [
    {
     "name": "stdout",
     "output_type": "stream",
     "text": [
      "Current date (2024-04-24) written to today.txt\n"
     ]
    }
   ],
   "source": [
    "import datetime\n",
    "\n",
    "today = datetime.date.today()\n",
    "\n",
    "date_string = today.strftime(\"%Y-%m-%d\")\n",
    "\n",
    "with open(\"today.txt\", \"w\") as file:\n",
    "  file.write(date_string)\n",
    "\n",
    "print(f\"Current date ({date_string}) written to today.txt\")"
   ]
  },
  {
   "cell_type": "markdown",
   "id": "ef90abef-13f2-47fe-ab14-35b8d80d7667",
   "metadata": {},
   "source": [
    "13.2 Read the text file today.txt into the string today_string."
   ]
  },
  {
   "cell_type": "code",
   "execution_count": 2,
   "id": "97d89941-8f56-4c4c-b5dc-a9b836031299",
   "metadata": {},
   "outputs": [
    {
     "name": "stdout",
     "output_type": "stream",
     "text": [
      "Text content in 'today.txt': 2024-04-24\n"
     ]
    }
   ],
   "source": [
    "with open(\"today.txt\", \"r\") as file:\n",
    "  today_str = file.read()\n",
    "\n",
    "print(f\"Text content in 'today.txt': {today_str}\")"
   ]
  },
  {
   "cell_type": "markdown",
   "id": "a9f3d430-beae-4581-8109-719d29ef14e7",
   "metadata": {},
   "source": [
    "13.3 Parse the date from today_string."
   ]
  },
  {
   "cell_type": "code",
   "execution_count": 3,
   "id": "c3fa5e8e-a4fa-47b6-8849-07e152669a62",
   "metadata": {},
   "outputs": [
    {
     "name": "stdout",
     "output_type": "stream",
     "text": [
      "Parsed date: 2024-04-24 00:00:00\n"
     ]
    }
   ],
   "source": [
    "import datetime\n",
    "\n",
    "with open(\"today.txt\", \"r\") as file:\n",
    "  today_str = file.read()\n",
    "\n",
    "date_format = \"%Y-%m-%d\"\n",
    "\n",
    "try:\n",
    "  date_item = datetime.datetime.strptime(today_str, date_format)\n",
    "  print(\"Parsed date:\", date_item)\n",
    "except ValueError:\n",
    "  print(\"Error: Invalid date format in today.txt\")\n"
   ]
  },
  {
   "cell_type": "markdown",
   "id": "bcd93f4a-3e18-48ce-ac54-0de49bf4959d",
   "metadata": {},
   "source": [
    "15.1 Use multiprocessing to create three separate processes. Make each one wait a random number of seconds between zero and one, print the current time, and then exit."
   ]
  },
  {
   "cell_type": "code",
   "execution_count": 6,
   "id": "4c4111e5-36ef-4fb4-82a3-49e49b7a213c",
   "metadata": {},
   "outputs": [
    {
     "name": "stdout",
     "output_type": "stream",
     "text": [
      "Multiprocessing completed.\n"
     ]
    }
   ],
   "source": [
    "import multiprocessing\n",
    "import random\n",
    "from datetime import datetime\n",
    "import time\n",
    "import math\n",
    "\n",
    "\n",
    "def delay_print():\n",
    "    delay = random.uniform(0,1)\n",
    "    delay_rounded = round(delay, 4)\n",
    "    time.sleep(delay)\n",
    "    current_time = datetime.now().strftime(\"%H:%M:%S\")\n",
    "    print(f\"The current time is {current_time}. This was printed after a delay of {delay_rounded} seconds.\")\n",
    "\n",
    "if __name__ == \"__main__\":\n",
    "    processes = []\n",
    "    for i in range(3):\n",
    "        p = multiprocessing.Process(target=delay_print, name=f\"Process-{i+1}\")\n",
    "        processes.append(p)\n",
    "        p.start()\n",
    "\n",
    "    for p in processes:    \n",
    "        p.join()\n",
    "        \n",
    "    print(\"Multiprocessing completed.\")\n",
    "    # print(f\"Process details: {processes}\")"
   ]
  },
  {
   "cell_type": "markdown",
   "id": "30d8d9b7-085f-440c-8078-69a90cfa4fac",
   "metadata": {},
   "source": [
    "^^^ This code is working perfectly fine in VSCode, but wont print the times in Jupyter. I will attach a screenshot to my submission on canvas to prove this or you can copy and paste the code into vscode whichever you prefer. "
   ]
  }
 ],
 "metadata": {
  "kernelspec": {
   "display_name": "Python 3 (ipykernel)",
   "language": "python",
   "name": "python3"
  },
  "language_info": {
   "codemirror_mode": {
    "name": "ipython",
    "version": 3
   },
   "file_extension": ".py",
   "mimetype": "text/x-python",
   "name": "python",
   "nbconvert_exporter": "python",
   "pygments_lexer": "ipython3",
   "version": "3.11.7"
  }
 },
 "nbformat": 4,
 "nbformat_minor": 5
}
