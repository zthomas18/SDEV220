{
 "cells": [
  {
   "cell_type": "markdown",
   "id": "6829fa35-0b2a-41c7-a279-6ba5fb24ad41",
   "metadata": {},
   "source": [
    "#Zach Thomas"
   ]
  },
  {
   "cell_type": "markdown",
   "id": "c23c6a6a-4d16-4060-98a9-c1a6172e0438",
   "metadata": {},
   "source": [
    "#M03 Tutorial - Functional vs OOP Programming"
   ]
  },
  {
   "cell_type": "markdown",
   "id": "fb163729-879b-487b-adce-d6b3135e23a8",
   "metadata": {},
   "source": [
    "OOP - Sorting an array of 0's, 1's, and 2's"
   ]
  },
  {
   "cell_type": "code",
   "execution_count": null,
   "id": "a3406809-ba54-4003-bdea-4d9e0d7feebb",
   "metadata": {},
   "outputs": [],
   "source": [
    "#creating a class to solve the problem\n",
    "class Solution:\n",
    "    \n",
    "    #defining a function to sort the 0's, 1's and 2's\n",
    "    def sort012(self,arr,n):\n",
    "        \n",
    "        #creating variables to use as pointers to represent different indexes (we \\\\\n",
    "        #can use these to iterate through the list and swap numbers)\n",
    "        low = 0\n",
    "        mid = 0\n",
    "        high = n-1\n",
    "        \n",
    "        #we will use the middle pointer to focus on specific indexes and then swap \\\\\n",
    "        #the values with values to the left (lower) or right (higher)\n",
    "       \n",
    "        #keep iterating this loop until our mid pointer is past the high pointer\n",
    "        while mid <= high:\n",
    "            \n",
    "            #if the value of the focussed index(mid) is 0, then we will move it to\\\\\n",
    "            #the left by swapping with low and then move to the next index\n",
    "            if arr[mid] == 0:\n",
    "                arr[mid], arr[low] = arr[low], arr[mid]\n",
    "                low += 1\n",
    "                mid += 1\n",
    "                \n",
    "            #if the value is 1, then we will leave it here and move to the next index\n",
    "            elif arr[mid] == 1:\n",
    "                mid += 1\n",
    "                \n",
    "            #if the value is 2, we will move it to the right by swapping it with high\n",
    "            #we will decrease the index of high and gradually move it towards the \\\\\n",
    "            #middle as we add 2's\n",
    "            else:\n",
    "                arr[mid], arr[high] = arr[high], arr[mid]\n",
    "                high -= 1"
   ]
  },
  {
   "cell_type": "markdown",
   "id": "ec2a3990-e595-4eaf-81fb-d3eb16b229c0",
   "metadata": {},
   "source": [
    "Functional - Binary Search"
   ]
  },
  {
   "cell_type": "code",
   "execution_count": null,
   "id": "5985a0e1-6252-4996-a8c0-edd43ed81359",
   "metadata": {},
   "outputs": [],
   "source": [
    "class Solution:\t\n",
    "\tdef binarysearch(self, arr, n, k):\n",
    "        low = 0                         #pointer for beginning of array\n",
    "        high = n-1                      #pointer for end (n) of array\n",
    "    \n",
    "        while low<=high:                #while our low and high pointers have not passed each other in index value, this loop will continue\n",
    "        \n",
    "            middle = int((high+low)/2)  #initiate each instance of the loop with a new middle pointer between our high and low pointers\n",
    "            if arr[middle] == k:        #if the value at our middle pointer == k, then return that value\n",
    "                return int(middle)\n",
    "            elif arr[middle] > k:       #if the value of our middle pointer is greater than k:\n",
    "                high = middle-1         #move our high point index left of the middle point so we can focus on all the numbers < the middle point\n",
    "            else:                       #this code will be reached if the k number is not at or below the middle point\n",
    "                low = middle+1          #move the low point to the right of the middle point so we can focus on the numbers above the middle point\n",
    "        return -1                       #if the number is not greater than, less than or equal to the middle point, the code will return -1"
   ]
  }
 ],
 "metadata": {
  "kernelspec": {
   "display_name": "Python 3 (ipykernel)",
   "language": "python",
   "name": "python3"
  },
  "language_info": {
   "codemirror_mode": {
    "name": "ipython",
    "version": 3
   },
   "file_extension": ".py",
   "mimetype": "text/x-python",
   "name": "python",
   "nbconvert_exporter": "python",
   "pygments_lexer": "ipython3",
   "version": "3.11.7"
  }
 },
 "nbformat": 4,
 "nbformat_minor": 5
}
