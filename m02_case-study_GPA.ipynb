{
 "cells": [
  {
   "cell_type": "markdown",
   "id": "b31b9922-f4ef-44ca-a303-ef12a7a8b083",
   "metadata": {},
   "source": [
    "#Zach Thomas\r\n",
    "#M02 Lab - Case Study: if...else and while\r\n",
    "#3-28-2024\n",
    "# GPA Program that accepts student names and their GPA scores. It will tell them if they qualify for the Dean's List or Honor Roll.\r\n",
    "\r\n"
   ]
  },
  {
   "cell_type": "code",
   "execution_count": 3,
   "id": "89a9b7ef-eb88-4c17-9c54-93370432b436",
   "metadata": {
    "scrolled": true
   },
   "outputs": [
    {
     "name": "stdin",
     "output_type": "stream",
     "text": [
      "Enter your last name (enter 'ZZZ' to quit):  Thomas\n",
      "Enter your first name:  Zach\n",
      "Enter your GPA:  4.0\n"
     ]
    },
    {
     "name": "stdout",
     "output_type": "stream",
     "text": [
      "Congratulations, Zach Thomas has made it to the Dean's List!\n"
     ]
    },
    {
     "name": "stdin",
     "output_type": "stream",
     "text": [
      "Enter your last name (enter 'ZZZ' to quit):  Doe\n",
      "Enter your first name:  Jogn\n",
      "Enter your GPA:  1.0\n"
     ]
    },
    {
     "name": "stdout",
     "output_type": "stream",
     "text": [
      "Sorry, Jogn Doe does not qualify for the Dean's List or Honor Roll!\n"
     ]
    },
    {
     "name": "stdin",
     "output_type": "stream",
     "text": [
      "Enter your last name (enter 'ZZZ' to quit):  Gates\n",
      "Enter your first name:  Bill\n",
      "Enter your GPA:  3.5\n"
     ]
    },
    {
     "name": "stdout",
     "output_type": "stream",
     "text": [
      "Congratulations, Bill Gates has made it to the Dean's List!\n"
     ]
    },
    {
     "name": "stdin",
     "output_type": "stream",
     "text": [
      "Enter your last name (enter 'ZZZ' to quit):  Musk\n",
      "Enter your first name:  Elon\n",
      "Enter your GPA:  3.25\n"
     ]
    },
    {
     "name": "stdout",
     "output_type": "stream",
     "text": [
      "Congratulations, Elon Musk has made it to the Honor Roll!\n"
     ]
    },
    {
     "name": "stdin",
     "output_type": "stream",
     "text": [
      "Enter your last name (enter 'ZZZ' to quit):  Jordan\n",
      "Enter your first name:  Michael\n",
      "Enter your GPA:  3.0\n"
     ]
    },
    {
     "name": "stdout",
     "output_type": "stream",
     "text": [
      "Sorry, Michael Jordan does not qualify for the Dean's List or Honor Roll!\n"
     ]
    },
    {
     "name": "stdin",
     "output_type": "stream",
     "text": [
      "Enter your last name (enter 'ZZZ' to quit):  ZZZ\n"
     ]
    }
   ],
   "source": [
    "while True: \n",
    "    last_name = input(\"Enter your last name (enter 'ZZZ' to quit): \")\n",
    "    if last_name == 'ZZZ':\n",
    "        break\n",
    "    else:\n",
    "        first_name = input(\"Enter your first name: \")\n",
    "        gpa = float(input(\"Enter your GPA: \"))\n",
    "\n",
    "        if gpa >= 3.5:\n",
    "            print(f\"Congratulations, {first_name} {last_name} has made it to the Dean's List!\")\n",
    "        elif gpa >= 3.25:\n",
    "            print(f\"Congratulations, {first_name} {last_name} has made it to the Honor Roll!\")\n",
    "        else:\n",
    "            print(f\"Sorry, {first_name} {last_name} does not qualify for the Dean's List or Honor Roll!\")"
   ]
  }
 ],
 "metadata": {
  "kernelspec": {
   "display_name": "Python 3 (ipykernel)",
   "language": "python",
   "name": "python3"
  },
  "language_info": {
   "codemirror_mode": {
    "name": "ipython",
    "version": 3
   },
   "file_extension": ".py",
   "mimetype": "text/x-python",
   "name": "python",
   "nbconvert_exporter": "python",
   "pygments_lexer": "ipython3",
   "version": "3.11.7"
  }
 },
 "nbformat": 4,
 "nbformat_minor": 5
}
